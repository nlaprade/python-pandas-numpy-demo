{
 "cells": [
  {
   "cell_type": "code",
   "execution_count": 10861,
   "id": "9960b230-ee44-4a89-bb26-d5fcc85f9caf",
   "metadata": {},
   "outputs": [],
   "source": [
    "import pandas as pd"
   ]
  },
  {
   "cell_type": "code",
   "execution_count": 10862,
   "id": "ef8b829d-78e6-4f16-9c25-f88bce9a3e82",
   "metadata": {},
   "outputs": [],
   "source": [
    "#Exercise 1"
   ]
  },
  {
   "cell_type": "code",
   "execution_count": 10863,
   "id": "cac61c0a-de08-421e-a5e3-a6f6a499652f",
   "metadata": {},
   "outputs": [],
   "source": [
    "#Init from dict"
   ]
  },
  {
   "cell_type": "code",
   "execution_count": 10864,
   "id": "0702f006-5b07-4956-81f9-74f1e54cf747",
   "metadata": {},
   "outputs": [],
   "source": [
    "#1.\tCreate a new dictionary, name it your firstname where firstname _fruits is your first name."
   ]
  },
  {
   "cell_type": "code",
   "execution_count": 10865,
   "id": "d0aa0038-7d37-4f0e-a18d-78fa5fc17277",
   "metadata": {},
   "outputs": [],
   "source": [
    "nicholas_fruits = {}"
   ]
  },
  {
   "cell_type": "code",
   "execution_count": 10866,
   "id": "cb986269-5910-4d92-8489-6bda2187e2ad",
   "metadata": {},
   "outputs": [],
   "source": [
    "#2.\tAdd four items to the dictionary with names of your favorite fruits as keys and the respective color as values."
   ]
  },
  {
   "cell_type": "code",
   "execution_count": 10867,
   "id": "5f363528-ec5f-4561-b7e8-473753aea720",
   "metadata": {},
   "outputs": [],
   "source": [
    "nicholas_fruits['kiwi'] = 'green'\n",
    "nicholas_fruits['cherry'] = 'red'\n",
    "nicholas_fruits['banana'] = 'yellow'\n",
    "nicholas_fruits['orange'] = 'orange'"
   ]
  },
  {
   "cell_type": "code",
   "execution_count": 10868,
   "id": "ef4b606a-2366-40ee-80a9-05b2eb80eb1e",
   "metadata": {},
   "outputs": [],
   "source": [
    "#3.\tConvert the dictionary into a pandas series named firstname_f."
   ]
  },
  {
   "cell_type": "code",
   "execution_count": 10869,
   "id": "bc9f1714-5313-421b-ae00-03b9b948e10c",
   "metadata": {},
   "outputs": [],
   "source": [
    "nicholas_f = pd.Series(nicholas_fruits, name = 'nicholas_f')"
   ]
  },
  {
   "cell_type": "code",
   "execution_count": 10870,
   "id": "11795574-a23e-438a-8725-ae15d303f4c4",
   "metadata": {},
   "outputs": [],
   "source": [
    "#4.\tPrint out the second and third items."
   ]
  },
  {
   "cell_type": "code",
   "execution_count": 10871,
   "id": "8f9b0314-9168-4a7f-9bd2-dfdb90397834",
   "metadata": {},
   "outputs": [
    {
     "data": {
      "text/plain": [
       "'Second Item: red'"
      ]
     },
     "execution_count": 10871,
     "metadata": {},
     "output_type": "execute_result"
    }
   ],
   "source": [
    "(f'Second Item: {nicholas_f.iloc[1]}')"
   ]
  },
  {
   "cell_type": "code",
   "execution_count": 10872,
   "id": "5e6e9480-b26f-4c4f-bc2e-e834b075cace",
   "metadata": {},
   "outputs": [
    {
     "data": {
      "text/plain": [
       "'Third Item: yellow'"
      ]
     },
     "execution_count": 10872,
     "metadata": {},
     "output_type": "execute_result"
    }
   ],
   "source": [
    "(f'Third Item: {nicholas_f.iloc[2]}')"
   ]
  },
  {
   "cell_type": "code",
   "execution_count": 10873,
   "id": "232a02a0-9dd2-4143-a805-4ae5ff77ed80",
   "metadata": {},
   "outputs": [],
   "source": [
    "#5.\tCreate a sub series named firstname_f2 containing the second and third items."
   ]
  },
  {
   "cell_type": "code",
   "execution_count": 10874,
   "id": "9921acac-cc5b-44f3-8adf-fc35ead6cb5a",
   "metadata": {},
   "outputs": [
    {
     "data": {
      "text/plain": [
       "'Last item inside the sub series: yellow'"
      ]
     },
     "execution_count": 10874,
     "metadata": {},
     "output_type": "execute_result"
    }
   ],
   "source": [
    "nicholas_f2 = nicholas_f.iloc[1:3]\n",
    "(f'Last item inside the sub series: {nicholas_f2.iloc[-1]}')"
   ]
  },
  {
   "cell_type": "code",
   "execution_count": 10875,
   "id": "4b11e034-8214-4b5b-8cd7-294eb31bf48b",
   "metadata": {},
   "outputs": [],
   "source": [
    "#6.\tPrintout from the sub series the last item using iloc."
   ]
  },
  {
   "cell_type": "code",
   "execution_count": 10876,
   "id": "0947845f-1f6c-46eb-a6bd-915e8ad4df4a",
   "metadata": {},
   "outputs": [],
   "source": [
    "#Handling time"
   ]
  },
  {
   "cell_type": "code",
   "execution_count": 10877,
   "id": "439fb46b-41cb-4caa-bd29-b791c4f1ffab",
   "metadata": {},
   "outputs": [],
   "source": [
    "#1.\tCreate a list containing four  rainfall amounts  of values 10, 23,24,30 name the list firstname_amounts."
   ]
  },
  {
   "cell_type": "code",
   "execution_count": 10878,
   "id": "a21095f3-a116-4839-b81d-392d150f841b",
   "metadata": {},
   "outputs": [],
   "source": [
    "nicholas_amounts = [10, 23, 24, 30]"
   ]
  },
  {
   "cell_type": "code",
   "execution_count": 10879,
   "id": "701704d1-c8bd-40ed-9f06-e4bee77f6bdd",
   "metadata": {},
   "outputs": [],
   "source": [
    "#2.\tUsing pandas create a date_range for todays date/time (you can set any time) with four time intervals."
   ]
  },
  {
   "cell_type": "code",
   "execution_count": 10880,
   "id": "60a172b2-b5fb-47c3-a293-1c8dbd070bfa",
   "metadata": {},
   "outputs": [],
   "source": [
    "from datetime import datetime\n",
    "today = datetime(2024, 1, 28, 5, 35, 0)\n",
    "date_range = pd.date_range(start = today, periods = 4, freq = '6H')"
   ]
  },
  {
   "cell_type": "code",
   "execution_count": 10881,
   "id": "dabc2b8d-84ba-45dc-aabc-1365667a5f6c",
   "metadata": {},
   "outputs": [],
   "source": [
    "#3.\tCreate a series that combines both the list and date range name it firstname_rainfall amounts_today."
   ]
  },
  {
   "cell_type": "code",
   "execution_count": 10882,
   "id": "6fa3f9cd-4d15-4894-a2a9-09cca1e6e393",
   "metadata": {},
   "outputs": [],
   "source": [
    "nicholas_rainfall_amounts_today = pd.Series(nicholas_amounts, index = date_range, name = 'nicholas rainfall amounts today')"
   ]
  },
  {
   "cell_type": "code",
   "execution_count": 10883,
   "id": "1feb8e55-c7f8-44bb-b110-46365fa22061",
   "metadata": {},
   "outputs": [],
   "source": [
    "#4.\tPlot as bar chart."
   ]
  },
  {
   "cell_type": "code",
   "execution_count": 10884,
   "id": "3a15ea44-a0f7-495e-aac4-daf9c7fdb2ab",
   "metadata": {},
   "outputs": [
    {
     "data": {
      "image/png": "[encoded data removed]",
      "text/plain": [
       "<Figure size 640x480 with 1 Axes>"
      ]
     },
     "metadata": {},
     "output_type": "display_data"
    }
   ],
   "source": [
    "import matplotlib.pyplot as plt\n",
    "nicholas_rainfall_amounts_today.plot(kind = 'bar', color = 'red')\n",
    "plt.title('Todays Total Rainfall')\n",
    "plt.xlabel('Time')\n",
    "plt.ylabel('Rainfall Amount')\n",
    "# I am rotating the x-axis text for visual clarity\n",
    "plt.xticks(rotation = 30)\n",
    "plt.show()"
   ]
  },
  {
   "cell_type": "code",
   "execution_count": 10885,
   "id": "eb4aed05-aa8e-4118-bc57-e55e741ac9a3",
   "metadata": {},
   "outputs": [],
   "source": [
    "#Pandas Multi - indexing"
   ]
  },
  {
   "cell_type": "code",
   "execution_count": 10886,
   "id": "499f398e-19a4-4f60-8a8c-af545b7bc815",
   "metadata": {},
   "outputs": [],
   "source": [
    "import numpy as np\n",
    "nicholas_d5 = pd.DataFrame(\n",
    "  {\n",
    "    (\"public\", \"birthyear\"):\n",
    "        {(\"Paris\",\"alice\"):1985, (\"Paris\",\"bob\"): 1984, (\"London\",\"charles\"): 1992},\n",
    "    (\"public\", \"hobby\"):\n",
    "        {(\"Paris\",\"alice\"):\"Biking\", (\"Paris\",\"bob\"): \"Dancing\"},\n",
    "    (\"private\", \"weight\"):\n",
    "        {(\"Paris\",\"alice\"):68, (\"Paris\",\"bob\"): 83, (\"London\",\"charles\"): 112},\n",
    "    (\"private\", \"children\"):\n",
    "        {(\"Paris\", \"alice\"):np.nan, (\"Paris\",\"bob\"): 3, (\"London\",\"charles\"): 0}\n",
    "  }\n",
    ")"
   ]
  },
  {
   "cell_type": "code",
   "execution_count": 10887,
   "id": "3b25e8ee-e296-4dc6-a37f-b6013c292bb8",
   "metadata": {},
   "outputs": [],
   "source": [
    "#1.\tprint out a dataframe containing all “private” columns"
   ]
  },
  {
   "cell_type": "code",
   "execution_count": 10888,
   "id": "0e805026-d0cd-465d-af73-7f0e4312e0e7",
   "metadata": {},
   "outputs": [
    {
     "data": {
      "text/html": [
       "<div>\n",
       "<style scoped>\n",
       "    .dataframe tbody tr th:only-of-type {\n",
       "        vertical-align: middle;\n",
       "    }\n",
       "\n",
       "    .dataframe tbody tr th {\n",
       "        vertical-align: top;\n",
       "    }\n",
       "\n",
       "    .dataframe thead tr th {\n",
       "        text-align: left;\n",
       "    }\n",
       "</style>\n",
       "<table border=\"1\" class=\"dataframe\">\n",
       "  <thead>\n",
       "    <tr>\n",
       "      <th></th>\n",
       "      <th></th>\n",
       "      <th colspan=\"2\" halign=\"left\">private</th>\n",
       "    </tr>\n",
       "    <tr>\n",
       "      <th></th>\n",
       "      <th></th>\n",
       "      <th>weight</th>\n",
       "      <th>children</th>\n",
       "    </tr>\n",
       "  </thead>\n",
       "  <tbody>\n",
       "    <tr>\n",
       "      <th rowspan=\"2\" valign=\"top\">Paris</th>\n",
       "      <th>alice</th>\n",
       "      <td>68</td>\n",
       "      <td>NaN</td>\n",
       "    </tr>\n",
       "    <tr>\n",
       "      <th>bob</th>\n",
       "      <td>83</td>\n",
       "      <td>3.0</td>\n",
       "    </tr>\n",
       "    <tr>\n",
       "      <th>London</th>\n",
       "      <th>charles</th>\n",
       "      <td>112</td>\n",
       "      <td>0.0</td>\n",
       "    </tr>\n",
       "  </tbody>\n",
       "</table>\n",
       "</div>"
      ],
      "text/plain": [
       "               private         \n",
       "                weight children\n",
       "Paris  alice        68      NaN\n",
       "       bob          83      3.0\n",
       "London charles     112      0.0"
      ]
     },
     "execution_count": 10888,
     "metadata": {},
     "output_type": "execute_result"
    }
   ],
   "source": [
    "private = nicholas_d5.filter(like = 'private')\n",
    "private"
   ]
  },
  {
   "cell_type": "code",
   "execution_count": 10889,
   "id": "ac87be95-dbf3-4a1a-8bdd-3b24bc10e058",
   "metadata": {},
   "outputs": [],
   "source": [
    "#2.\tSwap the columns and rows (hint: look at transpose)"
   ]
  },
  {
   "cell_type": "code",
   "execution_count": 10890,
   "id": "cfcba475-6852-4442-aac6-14f2d81872a8",
   "metadata": {},
   "outputs": [
    {
     "data": {
      "text/html": [
       "<div>\n",
       "<style scoped>\n",
       "    .dataframe tbody tr th:only-of-type {\n",
       "        vertical-align: middle;\n",
       "    }\n",
       "\n",
       "    .dataframe tbody tr th {\n",
       "        vertical-align: top;\n",
       "    }\n",
       "\n",
       "    .dataframe thead tr th {\n",
       "        text-align: left;\n",
       "    }\n",
       "</style>\n",
       "<table border=\"1\" class=\"dataframe\">\n",
       "  <thead>\n",
       "    <tr>\n",
       "      <th></th>\n",
       "      <th></th>\n",
       "      <th colspan=\"2\" halign=\"left\">Paris</th>\n",
       "      <th>London</th>\n",
       "    </tr>\n",
       "    <tr>\n",
       "      <th></th>\n",
       "      <th></th>\n",
       "      <th>alice</th>\n",
       "      <th>bob</th>\n",
       "      <th>charles</th>\n",
       "    </tr>\n",
       "  </thead>\n",
       "  <tbody>\n",
       "    <tr>\n",
       "      <th rowspan=\"2\" valign=\"top\">public</th>\n",
       "      <th>birthyear</th>\n",
       "      <td>1985</td>\n",
       "      <td>1984</td>\n",
       "      <td>1992</td>\n",
       "    </tr>\n",
       "    <tr>\n",
       "      <th>hobby</th>\n",
       "      <td>Biking</td>\n",
       "      <td>Dancing</td>\n",
       "      <td>NaN</td>\n",
       "    </tr>\n",
       "    <tr>\n",
       "      <th rowspan=\"2\" valign=\"top\">private</th>\n",
       "      <th>weight</th>\n",
       "      <td>68</td>\n",
       "      <td>83</td>\n",
       "      <td>112</td>\n",
       "    </tr>\n",
       "    <tr>\n",
       "      <th>children</th>\n",
       "      <td>NaN</td>\n",
       "      <td>3.0</td>\n",
       "      <td>0.0</td>\n",
       "    </tr>\n",
       "  </tbody>\n",
       "</table>\n",
       "</div>"
      ],
      "text/plain": [
       "                    Paris           London\n",
       "                    alice      bob charles\n",
       "public  birthyear    1985     1984    1992\n",
       "        hobby      Biking  Dancing     NaN\n",
       "private weight         68       83     112\n",
       "        children      NaN      3.0     0.0"
      ]
     },
     "execution_count": 10890,
     "metadata": {},
     "output_type": "execute_result"
    }
   ],
   "source": [
    "# Unsure fromt he instructions if its a transpose of the original d5 data set or the private filtered data set\n",
    "transpose = np.transpose(nicholas_d5)\n",
    "transpose"
   ]
  },
  {
   "cell_type": "code",
   "execution_count": 10891,
   "id": "9512703d-799e-4894-8528-4a23b2e5957c",
   "metadata": {},
   "outputs": [
    {
     "data": {
      "text/html": [
       "<div>\n",
       "<style scoped>\n",
       "    .dataframe tbody tr th:only-of-type {\n",
       "        vertical-align: middle;\n",
       "    }\n",
       "\n",
       "    .dataframe tbody tr th {\n",
       "        vertical-align: top;\n",
       "    }\n",
       "\n",
       "    .dataframe thead tr th {\n",
       "        text-align: left;\n",
       "    }\n",
       "</style>\n",
       "<table border=\"1\" class=\"dataframe\">\n",
       "  <thead>\n",
       "    <tr>\n",
       "      <th></th>\n",
       "      <th></th>\n",
       "      <th colspan=\"2\" halign=\"left\">Paris</th>\n",
       "      <th>London</th>\n",
       "    </tr>\n",
       "    <tr>\n",
       "      <th></th>\n",
       "      <th></th>\n",
       "      <th>alice</th>\n",
       "      <th>bob</th>\n",
       "      <th>charles</th>\n",
       "    </tr>\n",
       "  </thead>\n",
       "  <tbody>\n",
       "    <tr>\n",
       "      <th rowspan=\"2\" valign=\"top\">private</th>\n",
       "      <th>weight</th>\n",
       "      <td>68.0</td>\n",
       "      <td>83.0</td>\n",
       "      <td>112.0</td>\n",
       "    </tr>\n",
       "    <tr>\n",
       "      <th>children</th>\n",
       "      <td>NaN</td>\n",
       "      <td>3.0</td>\n",
       "      <td>0.0</td>\n",
       "    </tr>\n",
       "  </tbody>\n",
       "</table>\n",
       "</div>"
      ],
      "text/plain": [
       "                 Paris        London\n",
       "                 alice   bob charles\n",
       "private weight    68.0  83.0   112.0\n",
       "        children   NaN   3.0     0.0"
      ]
     },
     "execution_count": 10891,
     "metadata": {},
     "output_type": "execute_result"
    }
   ],
   "source": [
    "# Private Transposed data set\n",
    "private_transpose = np.transpose(private)\n",
    "private_transpose"
   ]
  },
  {
   "cell_type": "code",
   "execution_count": 10892,
   "id": "47d4e5fc-370b-4d3a-8543-707978548269",
   "metadata": {},
   "outputs": [],
   "source": [
    "#Querying"
   ]
  },
  {
   "cell_type": "code",
   "execution_count": 10893,
   "id": "8e4b11cb-16a6-47fb-abf7-15adf0b273b1",
   "metadata": {},
   "outputs": [],
   "source": [
    "#Use the query() to query the people dataframe  you created earlier and retrieve everything related to alice."
   ]
  },
  {
   "cell_type": "code",
   "execution_count": 10894,
   "id": "5724b0e9-e90f-4999-948a-a644fd4ed48b",
   "metadata": {},
   "outputs": [
    {
     "data": {
      "text/html": [
       "<div>\n",
       "<style scoped>\n",
       "    .dataframe tbody tr th:only-of-type {\n",
       "        vertical-align: middle;\n",
       "    }\n",
       "\n",
       "    .dataframe tbody tr th {\n",
       "        vertical-align: top;\n",
       "    }\n",
       "\n",
       "    .dataframe thead tr th {\n",
       "        text-align: left;\n",
       "    }\n",
       "</style>\n",
       "<table border=\"1\" class=\"dataframe\">\n",
       "  <thead>\n",
       "    <tr>\n",
       "      <th></th>\n",
       "      <th></th>\n",
       "      <th colspan=\"2\" halign=\"left\">public</th>\n",
       "      <th colspan=\"2\" halign=\"left\">private</th>\n",
       "    </tr>\n",
       "    <tr>\n",
       "      <th></th>\n",
       "      <th></th>\n",
       "      <th>birthyear</th>\n",
       "      <th>hobby</th>\n",
       "      <th>weight</th>\n",
       "      <th>children</th>\n",
       "    </tr>\n",
       "  </thead>\n",
       "  <tbody>\n",
       "    <tr>\n",
       "      <th>Paris</th>\n",
       "      <th>alice</th>\n",
       "      <td>1985</td>\n",
       "      <td>Biking</td>\n",
       "      <td>68</td>\n",
       "      <td>NaN</td>\n",
       "    </tr>\n",
       "  </tbody>\n",
       "</table>\n",
       "</div>"
      ],
      "text/plain": [
       "               public         private         \n",
       "            birthyear   hobby  weight children\n",
       "Paris alice      1985  Biking      68      NaN"
      ]
     },
     "execution_count": 10894,
     "metadata": {},
     "output_type": "execute_result"
    }
   ],
   "source": [
    "nicholas_d5.query('index.get_level_values(1) == \"alice\"')"
   ]
  },
  {
   "cell_type": "code",
   "execution_count": 10895,
   "id": "4884937c-8bfe-462c-802c-9abc2e949f22",
   "metadata": {},
   "outputs": [],
   "source": [
    "#5\tOperations on dataframes"
   ]
  },
  {
   "cell_type": "code",
   "execution_count": 10896,
   "id": "137bffb4-0388-4974-a355-f35a3b9c20d0",
   "metadata": {},
   "outputs": [
    {
     "data": {
      "text/html": [
       "<div>\n",
       "<style scoped>\n",
       "    .dataframe tbody tr th:only-of-type {\n",
       "        vertical-align: middle;\n",
       "    }\n",
       "\n",
       "    .dataframe tbody tr th {\n",
       "        vertical-align: top;\n",
       "    }\n",
       "\n",
       "    .dataframe thead th {\n",
       "        text-align: right;\n",
       "    }\n",
       "</style>\n",
       "<table border=\"1\" class=\"dataframe\">\n",
       "  <thead>\n",
       "    <tr style=\"text-align: right;\">\n",
       "      <th></th>\n",
       "      <th>April</th>\n",
       "      <th>May</th>\n",
       "      <th>June</th>\n",
       "      <th>July</th>\n",
       "    </tr>\n",
       "    <tr>\n",
       "      <th>Student</th>\n",
       "      <th></th>\n",
       "      <th></th>\n",
       "      <th></th>\n",
       "      <th></th>\n",
       "    </tr>\n",
       "  </thead>\n",
       "  <tbody>\n",
       "    <tr>\n",
       "      <th>Tomas</th>\n",
       "      <td>76</td>\n",
       "      <td>7</td>\n",
       "      <td>9</td>\n",
       "      <td>11</td>\n",
       "    </tr>\n",
       "    <tr>\n",
       "      <th>Sabrina</th>\n",
       "      <td>61</td>\n",
       "      <td>79</td>\n",
       "      <td>76</td>\n",
       "      <td>61</td>\n",
       "    </tr>\n",
       "    <tr>\n",
       "      <th>Emily</th>\n",
       "      <td>52</td>\n",
       "      <td>99</td>\n",
       "      <td>25</td>\n",
       "      <td>92</td>\n",
       "    </tr>\n",
       "    <tr>\n",
       "      <th>Sam</th>\n",
       "      <td>33</td>\n",
       "      <td>60</td>\n",
       "      <td>34</td>\n",
       "      <td>97</td>\n",
       "    </tr>\n",
       "  </tbody>\n",
       "</table>\n",
       "</div>"
      ],
      "text/plain": [
       "         April  May  June  July\n",
       "Student                        \n",
       "Tomas       76    7     9    11\n",
       "Sabrina     61   79    76    61\n",
       "Emily       52   99    25    92\n",
       "Sam         33   60    34    97"
      ]
     },
     "execution_count": 10896,
     "metadata": {},
     "output_type": "execute_result"
    }
   ],
   "source": [
    "names = ['Tomas', 'Sabrina', 'Emily', 'Sam']\n",
    "index = pd.Index(names, name = 'Student')\n",
    "\n",
    "columns = ['April', 'May', 'June', 'July']\n",
    "grades = np.random.randint(0, 100, size = (len(names), 4))\n",
    "\n",
    "nicholas_grades = pd.DataFrame(grades, index = index, columns = columns)\n",
    "nicholas_grades"
   ]
  },
  {
   "cell_type": "code",
   "execution_count": 10897,
   "id": "90980367-0b2e-4e36-b13a-35341290c1c4",
   "metadata": {},
   "outputs": [],
   "source": [
    "#1.\tPrint out the average for the month of April"
   ]
  },
  {
   "cell_type": "code",
   "execution_count": 10898,
   "id": "bd4e0601-a23d-475c-b9d6-dab14f43a517",
   "metadata": {},
   "outputs": [
    {
     "data": {
      "text/plain": [
       "'Average grade for the month of April: 55.5%'"
      ]
     },
     "execution_count": 10898,
     "metadata": {},
     "output_type": "execute_result"
    }
   ],
   "source": [
    "average = nicholas_grades['April'].mean()\n",
    "(f'Average grade for the month of April: {average}%')"
   ]
  },
  {
   "cell_type": "code",
   "execution_count": 10899,
   "id": "4a83a429-194d-4402-85fb-3a449c85af35",
   "metadata": {},
   "outputs": [],
   "source": [
    "#2.\tAdjust all the grades by 2% (i.e. increase)"
   ]
  },
  {
   "cell_type": "code",
   "execution_count": 10900,
   "id": "c2cb3dae-b0a6-48a2-b8bc-36ab8bd4037a",
   "metadata": {},
   "outputs": [
    {
     "data": {
      "text/html": [
       "<div>\n",
       "<style scoped>\n",
       "    .dataframe tbody tr th:only-of-type {\n",
       "        vertical-align: middle;\n",
       "    }\n",
       "\n",
       "    .dataframe tbody tr th {\n",
       "        vertical-align: top;\n",
       "    }\n",
       "\n",
       "    .dataframe thead th {\n",
       "        text-align: right;\n",
       "    }\n",
       "</style>\n",
       "<table border=\"1\" class=\"dataframe\">\n",
       "  <thead>\n",
       "    <tr style=\"text-align: right;\">\n",
       "      <th></th>\n",
       "      <th>April</th>\n",
       "      <th>May</th>\n",
       "      <th>June</th>\n",
       "      <th>July</th>\n",
       "    </tr>\n",
       "    <tr>\n",
       "      <th>Student</th>\n",
       "      <th></th>\n",
       "      <th></th>\n",
       "      <th></th>\n",
       "      <th></th>\n",
       "    </tr>\n",
       "  </thead>\n",
       "  <tbody>\n",
       "    <tr>\n",
       "      <th>Tomas</th>\n",
       "      <td>77.52</td>\n",
       "      <td>7.14</td>\n",
       "      <td>9.18</td>\n",
       "      <td>11.22</td>\n",
       "    </tr>\n",
       "    <tr>\n",
       "      <th>Sabrina</th>\n",
       "      <td>62.22</td>\n",
       "      <td>80.58</td>\n",
       "      <td>77.52</td>\n",
       "      <td>62.22</td>\n",
       "    </tr>\n",
       "    <tr>\n",
       "      <th>Emily</th>\n",
       "      <td>53.04</td>\n",
       "      <td>100.98</td>\n",
       "      <td>25.50</td>\n",
       "      <td>93.84</td>\n",
       "    </tr>\n",
       "    <tr>\n",
       "      <th>Sam</th>\n",
       "      <td>33.66</td>\n",
       "      <td>61.20</td>\n",
       "      <td>34.68</td>\n",
       "      <td>98.94</td>\n",
       "    </tr>\n",
       "  </tbody>\n",
       "</table>\n",
       "</div>"
      ],
      "text/plain": [
       "         April     May   June   July\n",
       "Student                             \n",
       "Tomas    77.52    7.14   9.18  11.22\n",
       "Sabrina  62.22   80.58  77.52  62.22\n",
       "Emily    53.04  100.98  25.50  93.84\n",
       "Sam      33.66   61.20  34.68  98.94"
      ]
     },
     "execution_count": 10900,
     "metadata": {},
     "output_type": "execute_result"
    }
   ],
   "source": [
    "adjustment = nicholas_grades * 1.02\n",
    "adjustment"
   ]
  },
  {
   "cell_type": "code",
   "execution_count": 10901,
   "id": "93791816-a95f-48b1-a66c-9a2387a9c86d",
   "metadata": {},
   "outputs": [],
   "source": [
    "#3.\tPrintout the grades for the month of may that are higher than 50%"
   ]
  },
  {
   "cell_type": "code",
   "execution_count": 10902,
   "id": "baad9391-4a4a-4be3-aa83-c6b74f44b0cf",
   "metadata": {},
   "outputs": [
    {
     "data": {
      "text/plain": [
       "Student\n",
       "Sabrina    79\n",
       "Emily      99\n",
       "Sam        60\n",
       "Name: May, dtype: int32"
      ]
     },
     "execution_count": 10902,
     "metadata": {},
     "output_type": "execute_result"
    }
   ],
   "source": [
    "grades_higer_50_may = nicholas_grades['May'][nicholas_grades['May'] > 50]\n",
    "grades_higer_50_may"
   ]
  },
  {
   "cell_type": "code",
   "execution_count": 10903,
   "id": "76c9194f-da2b-4851-a5b7-4a65f17715d2",
   "metadata": {},
   "outputs": [],
   "source": [
    "#4.\tGroup the failing students i.e. the students with average over four month below 50%"
   ]
  },
  {
   "cell_type": "code",
   "execution_count": 10904,
   "id": "e0794fb6-1e61-4681-b940-a5e1fee0f678",
   "metadata": {},
   "outputs": [
    {
     "data": {
      "text/html": [
       "<div>\n",
       "<style scoped>\n",
       "    .dataframe tbody tr th:only-of-type {\n",
       "        vertical-align: middle;\n",
       "    }\n",
       "\n",
       "    .dataframe tbody tr th {\n",
       "        vertical-align: top;\n",
       "    }\n",
       "\n",
       "    .dataframe thead th {\n",
       "        text-align: right;\n",
       "    }\n",
       "</style>\n",
       "<table border=\"1\" class=\"dataframe\">\n",
       "  <thead>\n",
       "    <tr style=\"text-align: right;\">\n",
       "      <th></th>\n",
       "      <th>April</th>\n",
       "      <th>May</th>\n",
       "      <th>June</th>\n",
       "      <th>July</th>\n",
       "      <th>Average</th>\n",
       "    </tr>\n",
       "    <tr>\n",
       "      <th>Student</th>\n",
       "      <th></th>\n",
       "      <th></th>\n",
       "      <th></th>\n",
       "      <th></th>\n",
       "      <th></th>\n",
       "    </tr>\n",
       "  </thead>\n",
       "  <tbody>\n",
       "    <tr>\n",
       "      <th>Tomas</th>\n",
       "      <td>76</td>\n",
       "      <td>7</td>\n",
       "      <td>9</td>\n",
       "      <td>11</td>\n",
       "      <td>25.75</td>\n",
       "    </tr>\n",
       "  </tbody>\n",
       "</table>\n",
       "</div>"
      ],
      "text/plain": [
       "         April  May  June  July  Average\n",
       "Student                                 \n",
       "Tomas       76    7     9    11    25.75"
      ]
     },
     "execution_count": 10904,
     "metadata": {},
     "output_type": "execute_result"
    }
   ],
   "source": [
    "# The .copy() method I added to remove an error\n",
    "failing_grades = nicholas_grades[nicholas_grades.mean(axis = 1) < 50].copy()\n",
    "# I am adding an Average column for visual clarity\n",
    "failing_grades['Average'] = nicholas_grades.mean(axis = 1)\n",
    "failing_grades"
   ]
  },
  {
   "cell_type": "code",
   "execution_count": 10905,
   "id": "b0e89fcb-a8d8-4fbf-a318-fb1d284551b4",
   "metadata": {},
   "outputs": [],
   "source": [
    "#Exercise 2"
   ]
  },
  {
   "cell_type": "code",
   "execution_count": 10906,
   "id": "c76492e0-aacd-4c49-8900-37143dacde36",
   "metadata": {},
   "outputs": [],
   "source": [
    "#np.functionname"
   ]
  },
  {
   "cell_type": "code",
   "execution_count": 10907,
   "id": "bfc17676-ebe0-48f8-9d94-14acf4bd2e95",
   "metadata": {},
   "outputs": [],
   "source": [
    "#Add a cell to create a function and name it  my_function_firstname, where firstname is your first name.\n",
    "#Let the function return an integer value stored in one byte i.e. ‘int8’ of (4x)*(3y). Where x is the number of rows and y is the number of columns.\n",
    "#Use np.fromfunction() to generate  three elements each are two by six using the  my_fuction_firstname.\n"
   ]
  },
  {
   "cell_type": "code",
   "execution_count": 10908,
   "id": "c66777f0-d6c8-47cf-be51-ef731acdeb4c",
   "metadata": {},
   "outputs": [],
   "source": [
    "def my_function_nicholas(rows, columns):\n",
    "    value = (4 * rows) * (3 * columns)\n",
    "    return np.int8(value)"
   ]
  },
  {
   "cell_type": "code",
   "execution_count": 10909,
   "id": "413aebf2-5571-4e2b-b565-ad6dd1da73e7",
   "metadata": {},
   "outputs": [],
   "source": [
    "#Inspect the code under this section copy it, add a cell to extract values 16,17,18"
   ]
  },
  {
   "cell_type": "code",
   "execution_count": 10910,
   "id": "76d59257-6c25-4d6a-9d95-9425358124ae",
   "metadata": {},
   "outputs": [
    {
     "data": {
      "text/plain": [
       "array([[ 0,  1,  2,  3,  4,  5,  6,  7,  8,  9, 10, 11],\n",
       "       [12, 13, 14, 15, 16, 17, 18, 19, 20, 21, 22, 23],\n",
       "       [24, 25, 26, 27, 28, 29, 30, 31, 32, 33, 34, 35],\n",
       "       [36, 37, 38, 39, 40, 41, 42, 43, 44, 45, 46, 47]])"
      ]
     },
     "execution_count": 10910,
     "metadata": {},
     "output_type": "execute_result"
    }
   ],
   "source": [
    "b = np.arange(48).reshape(4, 12)\n",
    "b"
   ]
  },
  {
   "cell_type": "code",
   "execution_count": 10911,
   "id": "4fc4c598-e84f-4bcf-abdb-a5d50b17d754",
   "metadata": {},
   "outputs": [
    {
     "data": {
      "text/plain": [
       "array([16, 17, 18])"
      ]
     },
     "execution_count": 10911,
     "metadata": {},
     "output_type": "execute_result"
    }
   ],
   "source": [
    "# 1 is the second row, 4:7 means all indexes between index 4 and 7 ie. 16,17,18\n",
    "extracted_values = b[1, 4:7]\n",
    "extracted_values"
   ]
  },
  {
   "cell_type": "code",
   "execution_count": 10912,
   "id": "64afe33b-eb23-46ae-947a-2252322ca747",
   "metadata": {},
   "outputs": [],
   "source": [
    "#Inspect the code under this section copy it, then add a cell to iterate over c and print the Boolean values for items equivalent to zeros."
   ]
  },
  {
   "cell_type": "code",
   "execution_count": 10913,
   "id": "8499ccbb-7f22-4644-8f7c-946bd2fea191",
   "metadata": {},
   "outputs": [
    {
     "data": {
      "text/plain": [
       "array([[[ 0,  1,  2,  3],\n",
       "        [ 4,  5,  6,  7],\n",
       "        [ 8,  9, 10, 11]],\n",
       "\n",
       "       [[12, 13, 14, 15],\n",
       "        [16, 17, 18, 19],\n",
       "        [20, 21, 22, 23]]])"
      ]
     },
     "execution_count": 10913,
     "metadata": {},
     "output_type": "execute_result"
    }
   ],
   "source": [
    "c = np.arange(24).reshape(2, 3, 4)  # A 3D array (composed of two 3x4 matrices)\n",
    "c"
   ]
  },
  {
   "cell_type": "code",
   "execution_count": 10914,
   "id": "402dd622-bdf4-452f-b96c-3aaf1540d478",
   "metadata": {},
   "outputs": [
    {
     "name": "stdout",
     "output_type": "stream",
     "text": [
      "True False False False \n",
      "False False False False \n",
      "False False False False \n",
      "\n",
      "False False False False \n",
      "False False False False \n",
      "False False False False \n",
      "\n"
     ]
    }
   ],
   "source": [
    "for matrix in c:\n",
    "    for row in matrix:\n",
    "        for value in row:\n",
    "            # end = ' ' so the original shape of the matrix stays\n",
    "            print(value == 0, end = ' ')\n",
    "        print()\n",
    "    print()"
   ]
  },
  {
   "cell_type": "code",
   "execution_count": 10915,
   "id": "b914c337-e31f-4edb-9dce-f0fe97e3d8bc",
   "metadata": {},
   "outputs": [],
   "source": [
    "#Inspect the code under this section copy it, then add a cell to create a variable name it q5_firstname where firstname \n",
    "#is your firstname and vertically stack q1 and q2 and print the output."
   ]
  },
  {
   "cell_type": "code",
   "execution_count": 10916,
   "id": "2853be11-2d1c-43ac-8798-e50f2d678040",
   "metadata": {},
   "outputs": [
    {
     "data": {
      "text/plain": [
       "array([[1., 1., 1., 1.],\n",
       "       [1., 1., 1., 1.],\n",
       "       [1., 1., 1., 1.],\n",
       "       [2., 2., 2., 2.],\n",
       "       [2., 2., 2., 2.],\n",
       "       [2., 2., 2., 2.],\n",
       "       [2., 2., 2., 2.],\n",
       "       [3., 3., 3., 3.],\n",
       "       [3., 3., 3., 3.],\n",
       "       [3., 3., 3., 3.]])"
      ]
     },
     "execution_count": 10916,
     "metadata": {},
     "output_type": "execute_result"
    }
   ],
   "source": [
    "q1 = np.full((3,4), 1.0)\n",
    "q2 = np.full((4,4), 2.0)\n",
    "q3 = np.full((3,4), 3.0)\n",
    "q4 = np.vstack((q1, q2, q3))\n",
    "q4"
   ]
  },
  {
   "cell_type": "code",
   "execution_count": 10917,
   "id": "5c3162fc-dcbc-4a5b-906a-0a67f8e23103",
   "metadata": {},
   "outputs": [
    {
     "data": {
      "text/plain": [
       "array([[1., 1., 1., 1.],\n",
       "       [1., 1., 1., 1.],\n",
       "       [1., 1., 1., 1.],\n",
       "       [2., 2., 2., 2.],\n",
       "       [2., 2., 2., 2.],\n",
       "       [2., 2., 2., 2.],\n",
       "       [2., 2., 2., 2.]])"
      ]
     },
     "execution_count": 10917,
     "metadata": {},
     "output_type": "execute_result"
    }
   ],
   "source": [
    "q5_nicholas = np.vstack((q1, q2))\n",
    "q5_nicholas"
   ]
  },
  {
   "cell_type": "code",
   "execution_count": 10918,
   "id": "567d23b4-bc02-41e1-b82b-0c1a40d6d944",
   "metadata": {},
   "outputs": [],
   "source": [
    "#Inspect the code under this section copy it, then add a cell to create a variable name it q8_firstname where \n",
    "#firstname is your firstname , concatenate q1 and q3 and print the results."
   ]
  },
  {
   "cell_type": "code",
   "execution_count": 10919,
   "id": "ab38f0d3-1fe3-4ed1-b1c9-fc6b891eff7b",
   "metadata": {},
   "outputs": [
    {
     "data": {
      "text/plain": [
       "array([[1., 1., 1., 1.],\n",
       "       [1., 1., 1., 1.],\n",
       "       [1., 1., 1., 1.],\n",
       "       [2., 2., 2., 2.],\n",
       "       [2., 2., 2., 2.],\n",
       "       [2., 2., 2., 2.],\n",
       "       [2., 2., 2., 2.],\n",
       "       [3., 3., 3., 3.],\n",
       "       [3., 3., 3., 3.],\n",
       "       [3., 3., 3., 3.]])"
      ]
     },
     "execution_count": 10919,
     "metadata": {},
     "output_type": "execute_result"
    }
   ],
   "source": [
    "q7 = np.concatenate((q1, q2, q3), axis=0)  # Equivalent to vstack\n",
    "q7"
   ]
  },
  {
   "cell_type": "code",
   "execution_count": 10920,
   "id": "35634cc7-111d-4529-98b2-8e6935d23dca",
   "metadata": {},
   "outputs": [
    {
     "data": {
      "text/plain": [
       "array([[1., 1., 1., 1.],\n",
       "       [1., 1., 1., 1.],\n",
       "       [1., 1., 1., 1.],\n",
       "       [3., 3., 3., 3.],\n",
       "       [3., 3., 3., 3.],\n",
       "       [3., 3., 3., 3.]])"
      ]
     },
     "execution_count": 10920,
     "metadata": {},
     "output_type": "execute_result"
    }
   ],
   "source": [
    "q8_nicholas = np.concatenate((q1, q3), axis = 0)\n",
    "q8_nicholas"
   ]
  },
  {
   "cell_type": "code",
   "execution_count": 10921,
   "id": "22cca853-cb8b-4bda-abf5-76a05c6ec01a",
   "metadata": {},
   "outputs": [],
   "source": [
    "#Inspect the code under this section copy it, then add a cell and create a variable named t_firstname where firstname is your name, \n",
    "#let the variable hold any ndaray size 2 by 7 with zero values, print the result then transpose and print the result."
   ]
  },
  {
   "cell_type": "code",
   "execution_count": 10922,
   "id": "61126c49-037e-490c-a725-7efb54fc2186",
   "metadata": {},
   "outputs": [
    {
     "data": {
      "text/plain": [
       "array([[[ 0,  1,  2],\n",
       "        [ 3,  4,  5]],\n",
       "\n",
       "       [[ 6,  7,  8],\n",
       "        [ 9, 10, 11]],\n",
       "\n",
       "       [[12, 13, 14],\n",
       "        [15, 16, 17]],\n",
       "\n",
       "       [[18, 19, 20],\n",
       "        [21, 22, 23]]])"
      ]
     },
     "execution_count": 10922,
     "metadata": {},
     "output_type": "execute_result"
    }
   ],
   "source": [
    "t = np.arange(24).reshape(4,2,3)\n",
    "t"
   ]
  },
  {
   "cell_type": "code",
   "execution_count": 10923,
   "id": "3865871d-035f-4e19-9baa-8f1249737419",
   "metadata": {},
   "outputs": [
    {
     "data": {
      "text/plain": [
       "array([[[0., 0., 0., 0., 0., 0., 0.],\n",
       "        [0., 0., 0., 0., 0., 0., 0.]]])"
      ]
     },
     "execution_count": 10923,
     "metadata": {},
     "output_type": "execute_result"
    }
   ],
   "source": [
    "t_nicholas = np.zeros((1, 2, 7))\n",
    "t_nicholas"
   ]
  },
  {
   "cell_type": "code",
   "execution_count": 10924,
   "id": "ad81285e-a936-494a-99c0-111613f7efbd",
   "metadata": {},
   "outputs": [
    {
     "data": {
      "text/plain": [
       "array([[[0.],\n",
       "        [0.],\n",
       "        [0.],\n",
       "        [0.],\n",
       "        [0.],\n",
       "        [0.],\n",
       "        [0.]],\n",
       "\n",
       "       [[0.],\n",
       "        [0.],\n",
       "        [0.],\n",
       "        [0.],\n",
       "        [0.],\n",
       "        [0.],\n",
       "        [0.]]])"
      ]
     },
     "execution_count": 10924,
     "metadata": {},
     "output_type": "execute_result"
    }
   ],
   "source": [
    "transposed = np.transpose(t_nicholas, axes = (1, 2, 0))\n",
    "transposed"
   ]
  },
  {
   "cell_type": "code",
   "execution_count": 10925,
   "id": "15ca7e83-567e-4e7f-8486-ffb176586073",
   "metadata": {},
   "outputs": [],
   "source": [
    "#Inspect the code under this section copy it, then  add a cell to create 2 ndarys name \n",
    "#the first a1 and the second a2. Both arrays should contain numbers in the range 0 to 8, \n",
    "#inclusive . Print a1 and a2. Reshape a1 to a 2 by 4. Reshape a2 to a 4 by 2. Create a new \n",
    "#variable a3 _first name where firstname is your first name which holds the dot product  of \n",
    "#a1 and a2 name it a3 and print the output of a3_firstname, then the shape of a3_first name."
   ]
  },
  {
   "cell_type": "code",
   "execution_count": 10926,
   "id": "2bd8f6a9-e41d-49ea-ba35-579306a484e5",
   "metadata": {},
   "outputs": [
    {
     "data": {
      "text/plain": [
       "array([[0, 1, 2, 3, 4],\n",
       "       [5, 6, 7, 8, 9]])"
      ]
     },
     "execution_count": 10926,
     "metadata": {},
     "output_type": "execute_result"
    }
   ],
   "source": [
    "n1 = np.arange(10).reshape(2, 5)\n",
    "n1"
   ]
  },
  {
   "cell_type": "code",
   "execution_count": 10927,
   "id": "f71bf926-c5d3-404a-ad9a-95a776b408b5",
   "metadata": {},
   "outputs": [
    {
     "data": {
      "text/plain": [
       "array([[0, 1, 2, 3],\n",
       "       [4, 5, 6, 7]])"
      ]
     },
     "execution_count": 10927,
     "metadata": {},
     "output_type": "execute_result"
    }
   ],
   "source": [
    "a1 = np.arange(8).reshape(2, 4)\n",
    "a1"
   ]
  },
  {
   "cell_type": "code",
   "execution_count": 10928,
   "id": "ed2a590b-b596-464c-b022-cf7c8ec0eeff",
   "metadata": {},
   "outputs": [
    {
     "data": {
      "text/plain": [
       "array([[0, 1],\n",
       "       [2, 3],\n",
       "       [4, 5],\n",
       "       [6, 7]])"
      ]
     },
     "execution_count": 10928,
     "metadata": {},
     "output_type": "execute_result"
    }
   ],
   "source": [
    "a2 = np.arange(8).reshape(4, 2)\n",
    "a2"
   ]
  },
  {
   "cell_type": "code",
   "execution_count": 10929,
   "id": "32b8ede1-8e46-465f-9296-c3253e61609c",
   "metadata": {},
   "outputs": [
    {
     "data": {
      "text/plain": [
       "array([[28, 34],\n",
       "       [76, 98]])"
      ]
     },
     "execution_count": 10929,
     "metadata": {},
     "output_type": "execute_result"
    }
   ],
   "source": [
    "a3_nicholas = a1.dot(a2)\n",
    "a3_nicholas"
   ]
  },
  {
   "cell_type": "code",
   "execution_count": 10930,
   "id": "bc36f29b-8b2f-4ee3-90fb-514323c1167a",
   "metadata": {},
   "outputs": [],
   "source": [
    "#Add a cell to create a new 4 by 4 ndaray with values between 0 and 15, name the variable that \n",
    "#holds the array your first name, print the array and the inverse of the array."
   ]
  },
  {
   "cell_type": "code",
   "execution_count": 10931,
   "id": "bf9cded4-8600-455f-8f18-843354f20575",
   "metadata": {},
   "outputs": [],
   "source": [
    "import numpy.linalg as linalg"
   ]
  },
  {
   "cell_type": "code",
   "execution_count": 10932,
   "id": "d3bdfd0f-94ab-433a-8ffa-ed963c28cb74",
   "metadata": {},
   "outputs": [
    {
     "data": {
      "text/plain": [
       "array([[ 1,  2,  3],\n",
       "       [ 5,  7, 11],\n",
       "       [21, 29, 31]])"
      ]
     },
     "execution_count": 10932,
     "metadata": {},
     "output_type": "execute_result"
    }
   ],
   "source": [
    "m3 = np.array([[1,2,3],[5,7,11],[21,29,31]])\n",
    "m3"
   ]
  },
  {
   "cell_type": "code",
   "execution_count": 10933,
   "id": "dac6a463-68b6-42b8-b40c-931265c21816",
   "metadata": {},
   "outputs": [
    {
     "data": {
      "text/plain": [
       "array([[ 1,  2,  5,  1],\n",
       "       [ 0,  5,  4,  2],\n",
       "       [-1,  4, -5,  0],\n",
       "       [ 1,  2,  3,  4]])"
      ]
     },
     "execution_count": 10933,
     "metadata": {},
     "output_type": "execute_result"
    }
   ],
   "source": [
    "array_nicholas = np.array([[1, 2, 5, 1],[0, 5, 4, 2],[-1, 4, -5, 0],[1, 2, 3, 4]])\n",
    "array_nicholas"
   ]
  },
  {
   "cell_type": "code",
   "execution_count": 10934,
   "id": "331e09be-551a-4c6f-9f24-a0b7aa68fbf1",
   "metadata": {},
   "outputs": [
    {
     "data": {
      "text/plain": [
       "array([[ 1.39534884, -1.13953488,  0.61627907,  0.22093023],\n",
       "       [ 0.23255814, -0.02325581,  0.18604651, -0.04651163],\n",
       "       [-0.09302326,  0.20930233, -0.1744186 , -0.08139535],\n",
       "       [-0.39534884,  0.13953488, -0.11627907,  0.27906977]])"
      ]
     },
     "execution_count": 10934,
     "metadata": {},
     "output_type": "execute_result"
    }
   ],
   "source": [
    "linalg.inv(array_nicholas)"
   ]
  },
  {
   "cell_type": "code",
   "execution_count": 10935,
   "id": "03a7d42b-4151-4d8b-a4b3-cfb76cd5a822",
   "metadata": {},
   "outputs": [],
   "source": [
    "#Add a cell to create a 4 by 4 identity array."
   ]
  },
  {
   "cell_type": "code",
   "execution_count": 10936,
   "id": "90d5d443-9c18-4a69-af7f-c4c4a2b4c2af",
   "metadata": {},
   "outputs": [
    {
     "data": {
      "text/plain": [
       "array([[1., 0., 0., 0.],\n",
       "       [0., 1., 0., 0.],\n",
       "       [0., 0., 1., 0.],\n",
       "       [0., 0., 0., 1.]])"
      ]
     },
     "execution_count": 10936,
     "metadata": {},
     "output_type": "execute_result"
    }
   ],
   "source": [
    "np.eye(4)"
   ]
  },
  {
   "cell_type": "code",
   "execution_count": 10937,
   "id": "ce296ef1-5b69-43b1-9512-eb85575ed8be",
   "metadata": {},
   "outputs": [],
   "source": [
    "#Add a cell to create a 3 by 3 matrix with values generated randomly then printout the determinant of the matrix."
   ]
  },
  {
   "cell_type": "code",
   "execution_count": 10938,
   "id": "e8e7d4de-caed-4f45-aa0e-ceb8e4c0e23c",
   "metadata": {},
   "outputs": [
    {
     "data": {
      "text/plain": [
       "array([[2, 1, 6],\n",
       "       [8, 5, 3],\n",
       "       [4, 9, 1]])"
      ]
     },
     "execution_count": 10938,
     "metadata": {},
     "output_type": "execute_result"
    }
   ],
   "source": [
    "matrix = np.random.randint(0, 10, size = (3, 3))\n",
    "matrix"
   ]
  },
  {
   "cell_type": "code",
   "execution_count": 10939,
   "id": "94b15db4-a725-4adb-9f3b-3bd140e62f3e",
   "metadata": {},
   "outputs": [
    {
     "data": {
      "text/plain": [
       "271.9999999999999"
      ]
     },
     "execution_count": 10939,
     "metadata": {},
     "output_type": "execute_result"
    }
   ],
   "source": [
    "linalg.det(matrix)"
   ]
  },
  {
   "cell_type": "code",
   "execution_count": 10940,
   "id": "08a0ed2a-bde0-4825-832e-8d80a1a92759",
   "metadata": {},
   "outputs": [],
   "source": [
    "#Add a cell to create a 4 by 4 matrix with values generated randomly, assign the matrix to a \n",
    "#variable named e_firstname. Printout the Eigenvalue and eigenvectors of the matrix."
   ]
  },
  {
   "cell_type": "code",
   "execution_count": 10941,
   "id": "d112d69f-8a7f-471b-996d-103b2b436649",
   "metadata": {},
   "outputs": [
    {
     "data": {
      "text/plain": [
       "EigResult(eigenvalues=array([11.73092387+0.j        , -3.313061  +0.j        ,\n",
       "        1.29106856+3.66910507j,  1.29106856-3.66910507j]), eigenvectors=array([[-0.53850876+0.j        , -0.40086465+0.j        ,\n",
       "        -0.32059592-0.2105436j , -0.32059592+0.2105436j ],\n",
       "       [-0.43129883+0.j        ,  0.65970266+0.j        ,\n",
       "        -0.290992  -0.15148798j, -0.290992  +0.15148798j],\n",
       "       [-0.60949373+0.j        ,  0.07318425+0.j        ,\n",
       "         0.70123674+0.j        ,  0.70123674-0.j        ],\n",
       "       [-0.39052148+0.j        , -0.6314618 +0.j        ,\n",
       "         0.07822664+0.4974056j ,  0.07822664-0.4974056j ]]))"
      ]
     },
     "execution_count": 10941,
     "metadata": {},
     "output_type": "execute_result"
    }
   ],
   "source": [
    "e_nicholas = np.random.randint(0, 10, size = (4, 4))\n",
    "linalg.eig(e_nicholas)"
   ]
  },
  {
   "cell_type": "code",
   "execution_count": 10942,
   "id": "638ce293-2372-4f43-8771-aa95d233d90f",
   "metadata": {},
   "outputs": [],
   "source": [
    "#Add a cell to solve the following linear equations:\n",
    "#2x+4y+z =12\n",
    "#3x+8y+2z =16\n",
    "#X+2y+3z = 3\n",
    "#Check the results using the allcolse method."
   ]
  },
  {
   "cell_type": "code",
   "execution_count": 10943,
   "id": "dc6f8fd6-9aed-4487-ab1b-f56964e7ba3f",
   "metadata": {},
   "outputs": [
    {
     "data": {
      "text/plain": [
       "array([ 8. , -0.7, -1.2])"
      ]
     },
     "execution_count": 10943,
     "metadata": {},
     "output_type": "execute_result"
    }
   ],
   "source": [
    "coeffs = np.array([[2,4,1], [3,8,2], [1,2,3]])\n",
    "constants = np.array([12, 16, 3])\n",
    "\n",
    "solution = linalg.solve(coeffs, constants)\n",
    "solution"
   ]
  },
  {
   "cell_type": "code",
   "execution_count": 10944,
   "id": "505e1e94-55d5-4538-b603-cc3db6d3c0d6",
   "metadata": {},
   "outputs": [
    {
     "data": {
      "text/plain": [
       "(array([12., 16.,  3.]), array([12, 16,  3]))"
      ]
     },
     "execution_count": 10944,
     "metadata": {},
     "output_type": "execute_result"
    }
   ],
   "source": [
    "coeffs.dot(solution), constants"
   ]
  },
  {
   "cell_type": "code",
   "execution_count": 10945,
   "id": "4a5a951f-323a-4769-a888-cc4b64f4a8d2",
   "metadata": {},
   "outputs": [],
   "source": [
    "#Exercise 3"
   ]
  },
  {
   "cell_type": "code",
   "execution_count": 10946,
   "id": "9ae74e37-d2b1-4474-bfdb-3342fceb573e",
   "metadata": {},
   "outputs": [],
   "source": [
    "#Add a cell at the end to generate a 2 D graph as follows:\n",
    "#x holds 1000 values between -4 and 4\n",
    "#z holds 1000 values between -5 and 5\n",
    "#y = x^2 + z^3 +6\n",
    "#plot x and y\n",
    "#name the plot(i.e.set the title) “Ploynomial_firstname” where firstname is your firstname.\n",
    "#Give names for the x and y axis."
   ]
  },
  {
   "cell_type": "code",
   "execution_count": 10947,
   "id": "b0578f47-8bcd-4bcf-b008-2b64f78699de",
   "metadata": {},
   "outputs": [
    {
     "data": {
      "image/png": "[encoded data removed]",
      "text/plain": [
       "<Figure size 640x480 with 1 Axes>"
      ]
     },
     "metadata": {},
     "output_type": "display_data"
    }
   ],
   "source": [
    "x = np.linspace(-4, 4, 1000)\n",
    "z = np.linspace(-5, 5, 1000)\n",
    "y = x**2 + z**3 + 6\n",
    "plt.plot(x, y)\n",
    "plt.title('Polynomial_nicholas')\n",
    "plt.xlabel('X')\n",
    "plt.ylabel('Y')\n",
    "plt.show()"
   ]
  },
  {
   "cell_type": "code",
   "execution_count": 10948,
   "id": "24903edb-ae5e-417e-ad05-098ad5fefa73",
   "metadata": {},
   "outputs": [],
   "source": [
    "#Add a cell at the end to generate a plot using subplot2grid with the following characteristics:\n",
    "#A 4 by 4 grid.\n",
    "#On the first row plot the function x^2 in a dashed green line.\n",
    "#On the second-row plot two functions, the first function x^3 in yellow color and the second function x^4 spanning three columns in red color.\n",
    "#On the third-row plot two functions the first X^6 in a dashed blue color and the second is X=x in magna (pink) color.\n",
    "#On the fourth row plot one function^7 spanning all columns in dotted red."
   ]
  },
  {
   "cell_type": "code",
   "execution_count": 10949,
   "id": "193ba163-cf10-4355-91f9-f2bd2f4b1d1b",
   "metadata": {},
   "outputs": [
    {
     "data": {
      "text/plain": [
       "[<matplotlib.lines.Line2D at 0x23a96f19880>]"
      ]
     },
     "execution_count": 10949,
     "metadata": {},
     "output_type": "execute_result"
    },
    {
     "data": {
      "image/png": "[encoded data removed]",
      "text/plain": [
       "<Figure size 640x480 with 6 Axes>"
      ]
     },
     "metadata": {},
     "output_type": "display_data"
    }
   ],
   "source": [
    "x = np.linspace(-1.5, 1.5, 100)\n",
    "first = plt.subplot2grid((4, 4), (0, 0), colspan = 4)\n",
    "first.plot(x, x**2, '--', color = 'green')\n",
    "\n",
    "second = plt.subplot2grid((4, 4), (1, 0), colspan = 1)\n",
    "second.plot(x, x**3, color = 'yellow')\n",
    "\n",
    "third = plt.subplot2grid((4, 4), (1, 1), colspan = 3)\n",
    "third.plot(x, x**4, color = 'red')\n",
    "\n",
    "fourth = plt.subplot2grid((4, 4), (2, 0), colspan = 3)\n",
    "fourth.plot(x, x**6, '--', color = 'blue')\n",
    "\n",
    "fifth = plt.subplot2grid((4, 4), (2, 3), colspan = 1)\n",
    "fifth.plot(x, x, color = 'magenta')\n",
    "\n",
    "sixth = plt.subplot2grid((4, 4), (3, 0), colspan = 4)\n",
    "sixth.plot(x, x**7, '.', markersize = 2, color = 'red')"
   ]
  }
 ],
 "metadata": {
  "kernelspec": {
   "display_name": "Python 3 (ipykernel)",
   "language": "python",
   "name": "python3"
  },
  "language_info": {
   "codemirror_mode": {
    "name": "ipython",
    "version": 3
   },
   "file_extension": ".py",
   "mimetype": "text/x-python",
   "name": "python",
   "nbconvert_exporter": "python",
   "pygments_lexer": "ipython3",
   "version": "3.9.18"
  }
 },
 "nbformat": 4,
 "nbformat_minor": 5
}
